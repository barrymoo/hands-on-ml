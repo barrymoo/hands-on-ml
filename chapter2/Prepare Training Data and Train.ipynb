{
 "cells": [
  {
   "cell_type": "markdown",
   "metadata": {},
   "source": [
    "From the Cleaned & Stratified Training Data\n",
    "---"
   ]
  },
  {
   "cell_type": "code",
   "execution_count": 1,
   "metadata": {
    "collapsed": true
   },
   "outputs": [],
   "source": [
    "import pandas as pd\n",
    "import numpy as np"
   ]
  },
  {
   "cell_type": "code",
   "execution_count": 2,
   "metadata": {
    "collapsed": true
   },
   "outputs": [],
   "source": [
    "strat_train_set = pd.read_csv(\"strat_train_set.csv\")\n",
    "housing = strat_train_set.drop(\"median_house_value\", axis=1)\n",
    "housing_labels = strat_train_set[\"median_house_value\"].copy().values"
   ]
  },
  {
   "cell_type": "code",
   "execution_count": 3,
   "metadata": {},
   "outputs": [
    {
     "data": {
      "text/html": [
       "<div>\n",
       "<style>\n",
       "    .dataframe thead tr:only-child th {\n",
       "        text-align: right;\n",
       "    }\n",
       "\n",
       "    .dataframe thead th {\n",
       "        text-align: left;\n",
       "    }\n",
       "\n",
       "    .dataframe tbody tr th {\n",
       "        vertical-align: top;\n",
       "    }\n",
       "</style>\n",
       "<table border=\"1\" class=\"dataframe\">\n",
       "  <thead>\n",
       "    <tr style=\"text-align: right;\">\n",
       "      <th></th>\n",
       "      <th>longitude</th>\n",
       "      <th>latitude</th>\n",
       "      <th>housing_median_age</th>\n",
       "      <th>total_rooms</th>\n",
       "      <th>total_bedrooms</th>\n",
       "      <th>population</th>\n",
       "      <th>households</th>\n",
       "      <th>median_income</th>\n",
       "      <th>ocean_proximity</th>\n",
       "    </tr>\n",
       "  </thead>\n",
       "  <tbody>\n",
       "    <tr>\n",
       "      <th>0</th>\n",
       "      <td>-122.23</td>\n",
       "      <td>37.79</td>\n",
       "      <td>40.0</td>\n",
       "      <td>930.0</td>\n",
       "      <td>199.0</td>\n",
       "      <td>564.0</td>\n",
       "      <td>184.0</td>\n",
       "      <td>1.3281</td>\n",
       "      <td>NEAR BAY</td>\n",
       "    </tr>\n",
       "    <tr>\n",
       "      <th>1</th>\n",
       "      <td>-118.10</td>\n",
       "      <td>33.98</td>\n",
       "      <td>33.0</td>\n",
       "      <td>1927.0</td>\n",
       "      <td>482.0</td>\n",
       "      <td>1623.0</td>\n",
       "      <td>479.0</td>\n",
       "      <td>3.5268</td>\n",
       "      <td>&lt;1H OCEAN</td>\n",
       "    </tr>\n",
       "    <tr>\n",
       "      <th>2</th>\n",
       "      <td>-117.08</td>\n",
       "      <td>32.77</td>\n",
       "      <td>31.0</td>\n",
       "      <td>1070.0</td>\n",
       "      <td>155.0</td>\n",
       "      <td>426.0</td>\n",
       "      <td>153.0</td>\n",
       "      <td>6.1628</td>\n",
       "      <td>NEAR OCEAN</td>\n",
       "    </tr>\n",
       "    <tr>\n",
       "      <th>3</th>\n",
       "      <td>-117.13</td>\n",
       "      <td>32.76</td>\n",
       "      <td>22.0</td>\n",
       "      <td>2623.0</td>\n",
       "      <td>732.0</td>\n",
       "      <td>1283.0</td>\n",
       "      <td>718.0</td>\n",
       "      <td>2.1563</td>\n",
       "      <td>NEAR OCEAN</td>\n",
       "    </tr>\n",
       "    <tr>\n",
       "      <th>4</th>\n",
       "      <td>-121.38</td>\n",
       "      <td>38.68</td>\n",
       "      <td>35.0</td>\n",
       "      <td>1643.0</td>\n",
       "      <td>298.0</td>\n",
       "      <td>831.0</td>\n",
       "      <td>305.0</td>\n",
       "      <td>4.0673</td>\n",
       "      <td>INLAND</td>\n",
       "    </tr>\n",
       "  </tbody>\n",
       "</table>\n",
       "</div>"
      ],
      "text/plain": [
       "   longitude  latitude  housing_median_age  total_rooms  total_bedrooms  \\\n",
       "0    -122.23     37.79                40.0        930.0           199.0   \n",
       "1    -118.10     33.98                33.0       1927.0           482.0   \n",
       "2    -117.08     32.77                31.0       1070.0           155.0   \n",
       "3    -117.13     32.76                22.0       2623.0           732.0   \n",
       "4    -121.38     38.68                35.0       1643.0           298.0   \n",
       "\n",
       "   population  households  median_income ocean_proximity  \n",
       "0       564.0       184.0         1.3281        NEAR BAY  \n",
       "1      1623.0       479.0         3.5268       <1H OCEAN  \n",
       "2       426.0       153.0         6.1628      NEAR OCEAN  \n",
       "3      1283.0       718.0         2.1563      NEAR OCEAN  \n",
       "4       831.0       305.0         4.0673          INLAND  "
      ]
     },
     "execution_count": 3,
     "metadata": {},
     "output_type": "execute_result"
    }
   ],
   "source": [
    "housing.head()"
   ]
  },
  {
   "cell_type": "markdown",
   "metadata": {},
   "source": [
    "Deal with Numeric and Categorical Data\n",
    "---\n",
    "\n",
    "Transformation Pipelines in SKLearn allow us to tranform our data in one swoop."
   ]
  },
  {
   "cell_type": "code",
   "execution_count": 4,
   "metadata": {
    "collapsed": true
   },
   "outputs": [],
   "source": [
    "from sklearn.pipeline import Pipeline, FeatureUnion\n",
    "from sklearn.preprocessing import StandardScaler, LabelBinarizer, Imputer"
   ]
  },
  {
   "cell_type": "markdown",
   "metadata": {},
   "source": [
    "### Allows for the selection of a dataframe by index names"
   ]
  },
  {
   "cell_type": "code",
   "execution_count": 5,
   "metadata": {
    "collapsed": true
   },
   "outputs": [],
   "source": [
    "from sklearn.base import BaseEstimator, TransformerMixin\n",
    "\n",
    "class DataFrameSelector(BaseEstimator, TransformerMixin):\n",
    "    def __init__(self, attribute_names):\n",
    "        self.attribute_names = attribute_names\n",
    "    def fit(self, X, y=None):\n",
    "        return self\n",
    "    def transform(self, X):\n",
    "        return X[self.attribute_names].values"
   ]
  },
  {
   "cell_type": "markdown",
   "metadata": {},
   "source": [
    "- `Imputer` rips out empty values and replaces them with the median of that data set\n",
    "- `StandardScaler` does the feature scaling:\n",
    "    - Two types of feature scaling:\n",
    "        - `MinMaxScaler`: Normalization between M and N (typically 0 and 1, some algorithms require this)\n",
    "        - `StandardScaler`: Subtracts mean and divides by variance (less affected by outliers)\n",
    "- `LabelBinarizer` known as _one-hot encoding_, creates a 2D array (number of categories by number of entries) w/ a single 1 in each row to represent the category.\n",
    "- `FeatureUnion` allows us to lump the 2 pipelines together."
   ]
  },
  {
   "cell_type": "code",
   "execution_count": 6,
   "metadata": {
    "collapsed": true
   },
   "outputs": [],
   "source": [
    "numeric_attributes = list(housing.drop(\"ocean_proximity\", axis=1))\n",
    "categorical_attributes = [\"ocean_proximity\"]\n",
    "\n",
    "numeric_pipeline = Pipeline([\n",
    "    ('selector', DataFrameSelector(numeric_attributes)),\n",
    "    ('imputer', Imputer(strategy=\"median\")),\n",
    "    ('std_scaler', StandardScaler())\n",
    "])\n",
    "\n",
    "categorical_pipeline = Pipeline([\n",
    "    ('selector', DataFrameSelector(categorical_attributes)),\n",
    "    ('binarizer', LabelBinarizer())\n",
    "])\n",
    "\n",
    "full_pipeline = FeatureUnion(transformer_list=[\n",
    "    (\"numeric_pipeline\", numeric_pipeline),\n",
    "    (\"categorical_pipeline\", categorical_pipeline)\n",
    "])\n",
    "\n",
    "housing_prepared = full_pipeline.fit_transform(housing)"
   ]
  },
  {
   "cell_type": "markdown",
   "metadata": {},
   "source": [
    "Training\n",
    "---"
   ]
  },
  {
   "cell_type": "code",
   "execution_count": 7,
   "metadata": {
    "collapsed": true
   },
   "outputs": [],
   "source": [
    "from sklearn.linear_model import LinearRegression"
   ]
  },
  {
   "cell_type": "code",
   "execution_count": 8,
   "metadata": {},
   "outputs": [
    {
     "data": {
      "text/plain": [
       "(numpy.ndarray, numpy.ndarray)"
      ]
     },
     "execution_count": 8,
     "metadata": {},
     "output_type": "execute_result"
    }
   ],
   "source": [
    "type(housing_prepared), type(housing_labels)"
   ]
  },
  {
   "cell_type": "code",
   "execution_count": 10,
   "metadata": {
    "collapsed": true
   },
   "outputs": [],
   "source": [
    "#lin_reg = LinearRegression()\n",
    "#lin_reg.fit(housing_prepared, housing_labels)"
   ]
  },
  {
   "cell_type": "code",
   "execution_count": 12,
   "metadata": {
    "collapsed": true
   },
   "outputs": [],
   "source": [
    "#from sklearn.metrics import mean_squared_error\n",
    "#housing_predictions = lin_reg.predict(housing_prepared)\n",
    "#lin_mse = mean_squared_error(housing_labels, housing_predictions)\n",
    "#lin_rmse = np.sqrt(lin_mse)\n",
    "#lin_rmse"
   ]
  },
  {
   "cell_type": "markdown",
   "metadata": {},
   "source": [
    "- `LinearRegression` is strongly underfitting data\n",
    "    - Try another model `DecisionTreeRegressor`"
   ]
  },
  {
   "cell_type": "code",
   "execution_count": 13,
   "metadata": {},
   "outputs": [
    {
     "data": {
      "text/plain": [
       "0.0"
      ]
     },
     "execution_count": 13,
     "metadata": {},
     "output_type": "execute_result"
    }
   ],
   "source": [
    "from sklearn.tree import DecisionTreeRegressor\n",
    "tree_reg = DecisionTreeRegressor()\n",
    "tree_reg.fit(housing_prepared, housing_labels)\n",
    "\n",
    "housing_predictions = tree_reg.predict(housing_prepared)\n",
    "tree_mse = mean_squared_error(housing_labels, housing_predictions)\n",
    "tree_rmse = np.sqrt(tree_mse)\n",
    "tree_rmse"
   ]
  },
  {
   "cell_type": "markdown",
   "metadata": {},
   "source": [
    "#### Cross Validation"
   ]
  },
  {
   "cell_type": "code",
   "execution_count": 14,
   "metadata": {},
   "outputs": [
    {
     "name": "stdout",
     "output_type": "stream",
     "text": [
      "Scores: [ 60237.91820888  58576.29723038  59397.36086309  61076.21750618\n",
      "  57358.34985593  60457.30818861  59671.7579223   57816.66111934\n",
      "  58229.36397361  59228.26049748]\n",
      "Mean: 59204.9495365805\n",
      "StdDev: 1143.5380140842085\n"
     ]
    }
   ],
   "source": [
    "from sklearn.model_selection import cross_val_score\n",
    "\n",
    "tree_scores = cross_val_score(tree_reg, housing_prepared, housing_labels, scoring=\"neg_mean_squared_error\", cv=10)\n",
    "tree_rmse_scores = np.sqrt(-tree_scores)\n",
    "\n",
    "def display_cross_val_scores(scores):\n",
    "    print(\"Scores: {}\".format(scores))\n",
    "    print(\"Mean: {}\".format(scores.mean()))\n",
    "    print(\"StdDev: {}\".format(scores.std()))\n",
    "    \n",
    "display_cross_val_scores(tree_rmse_scores)    "
   ]
  },
  {
   "cell_type": "markdown",
   "metadata": {},
   "source": [
    "Linear Cross Validation\n",
    "---\n",
    "\n",
    "This one doesn't work. I don't really know why."
   ]
  },
  {
   "cell_type": "code",
   "execution_count": 15,
   "metadata": {
    "collapsed": true
   },
   "outputs": [],
   "source": [
    "# lin_scores = cross_val_score(lin_reg, housing_prepared, housing_labels, scoring=\"neg_mean_squared_error\", cv=10)\n",
    "# lin_rmse_scores = np.sqrt(-lin_scores)\n",
    "# display_cross_val_scores(lin_rmse_scores)"
   ]
  },
  {
   "cell_type": "code",
   "execution_count": 16,
   "metadata": {},
   "outputs": [
    {
     "name": "stdout",
     "output_type": "stream",
     "text": [
      "19086.95264\n",
      "Scores: [ 43371.87152382  44279.94700355  46118.9519665   45674.94064467\n",
      "  42308.4005317   44915.97417323  42776.28403136  45188.1207885\n",
      "  45209.10918035  45050.61793221]\n",
      "Mean: 44489.421777589494\n",
      "StdDev: 1206.1647822640973\n"
     ]
    }
   ],
   "source": [
    "from sklearn.ensemble import RandomForestRegressor\n",
    "forest_reg = RandomForestRegressor()\n",
    "forest_reg.fit(housing_prepared, housing_labels)\n",
    "\n",
    "housing_predictions = forest_reg.predict(housing_prepared)\n",
    "forest_mse = mean_squared_error(housing_labels, housing_predictions)\n",
    "forest_rmse = np.sqrt(forest_mse)\n",
    "print(forest_rmse)\n",
    "\n",
    "forest_scores = cross_val_score(forest_reg, housing_prepared, housing_labels, scoring=\"neg_mean_squared_error\", cv=10)\n",
    "forest_rmse_scores = np.sqrt(-forest_scores)\n",
    "\n",
    "display_cross_val_scores(forest_rmse_scores)"
   ]
  },
  {
   "cell_type": "markdown",
   "metadata": {
    "collapsed": true
   },
   "source": [
    "Grid Search\n",
    "---"
   ]
  },
  {
   "cell_type": "code",
   "execution_count": 23,
   "metadata": {},
   "outputs": [
    {
     "data": {
      "text/plain": [
       "GridSearchCV(cv=5, error_score='raise',\n",
       "       estimator=RandomForestRegressor(bootstrap=True, criterion='mse', max_depth=None,\n",
       "           max_features='auto', max_leaf_nodes=None,\n",
       "           min_impurity_split=1e-07, min_samples_leaf=1,\n",
       "           min_samples_split=2, min_weight_fraction_leaf=0.0,\n",
       "           n_estimators=10, n_jobs=1, oob_score=False, random_state=None,\n",
       "           verbose=0, warm_start=False),\n",
       "       fit_params={}, iid=True, n_jobs=1,\n",
       "       param_grid=[{'max_features': [2, 4, 6, 8, 10], 'n_estimators': [2, 10, 30, 50, 70]}],\n",
       "       pre_dispatch='2*n_jobs', refit=True, return_train_score=True,\n",
       "       scoring='neg_mean_squared_error', verbose=0)"
      ]
     },
     "execution_count": 23,
     "metadata": {},
     "output_type": "execute_result"
    }
   ],
   "source": [
    "from sklearn.model_selection import GridSearchCV\n",
    "\n",
    "param_grid = [\n",
    "    {'n_estimators': [2, 10, 30, 50, 70], 'max_features': [2, 4, 6, 8, 10]},\n",
    "]\n",
    "\n",
    "forest_reg = RandomForestRegressor()\n",
    "\n",
    "grid_search = GridSearchCV(forest_reg, param_grid, cv=5, scoring='neg_mean_squared_error')\n",
    "\n",
    "grid_search.fit(housing_prepared, housing_labels)"
   ]
  },
  {
   "cell_type": "code",
   "execution_count": 24,
   "metadata": {},
   "outputs": [
    {
     "data": {
      "text/plain": [
       "{'max_features': 10, 'n_estimators': 70}"
      ]
     },
     "execution_count": 24,
     "metadata": {},
     "output_type": "execute_result"
    }
   ],
   "source": [
    "grid_search.best_params_"
   ]
  },
  {
   "cell_type": "code",
   "execution_count": 25,
   "metadata": {},
   "outputs": [
    {
     "name": "stdout",
     "output_type": "stream",
     "text": [
      "58953.081171 {'max_features': 2, 'n_estimators': 2}\n",
      "47842.062994 {'max_features': 2, 'n_estimators': 10}\n",
      "45432.7590561 {'max_features': 2, 'n_estimators': 30}\n",
      "45025.1023988 {'max_features': 2, 'n_estimators': 50}\n",
      "44836.4644038 {'max_features': 2, 'n_estimators': 70}\n",
      "55778.4679571 {'max_features': 4, 'n_estimators': 2}\n",
      "45190.2484422 {'max_features': 4, 'n_estimators': 10}\n",
      "43255.0558091 {'max_features': 4, 'n_estimators': 30}\n",
      "42963.2154486 {'max_features': 4, 'n_estimators': 50}\n",
      "42848.0789651 {'max_features': 4, 'n_estimators': 70}\n",
      "55221.5914941 {'max_features': 6, 'n_estimators': 2}\n",
      "44998.4767804 {'max_features': 6, 'n_estimators': 10}\n",
      "43130.6156573 {'max_features': 6, 'n_estimators': 30}\n",
      "42464.1284392 {'max_features': 6, 'n_estimators': 50}\n",
      "42340.9011952 {'max_features': 6, 'n_estimators': 70}\n",
      "52283.7194267 {'max_features': 8, 'n_estimators': 2}\n",
      "44577.4761436 {'max_features': 8, 'n_estimators': 10}\n",
      "42969.1539343 {'max_features': 8, 'n_estimators': 30}\n",
      "42487.5945495 {'max_features': 8, 'n_estimators': 50}\n",
      "42326.9572205 {'max_features': 8, 'n_estimators': 70}\n",
      "53875.404323 {'max_features': 10, 'n_estimators': 2}\n",
      "44539.7796001 {'max_features': 10, 'n_estimators': 10}\n",
      "42831.5315391 {'max_features': 10, 'n_estimators': 30}\n",
      "42368.5728186 {'max_features': 10, 'n_estimators': 50}\n",
      "42254.515281 {'max_features': 10, 'n_estimators': 70}\n"
     ]
    }
   ],
   "source": [
    "for mean_score, params in zip(grid_search.cv_results_[\"mean_test_score\"], grid_search.cv_results_[\"params\"]):\n",
    "    print(np.sqrt(-mean_score), params)"
   ]
  },
  {
   "cell_type": "code",
   "execution_count": 27,
   "metadata": {},
   "outputs": [
    {
     "data": {
      "text/plain": [
       "array([  1.12825052e-01,   1.01617089e-01,   4.42278828e-02,\n",
       "         2.78638464e-02,   2.54687600e-02,   3.60848298e-02,\n",
       "         2.44652673e-02,   4.39667299e-01,   1.04361114e-02,\n",
       "         1.69703531e-01,   2.92715211e-05,   1.39393590e-03,\n",
       "         6.21712359e-03])"
      ]
     },
     "execution_count": 27,
     "metadata": {},
     "output_type": "execute_result"
    }
   ],
   "source": [
    "feature_importances = grid_search.best_estimator_.feature_importances_\n",
    "feature_importances"
   ]
  },
  {
   "cell_type": "code",
   "execution_count": 34,
   "metadata": {},
   "outputs": [
    {
     "data": {
      "text/plain": [
       "[(0.43966729904938739, 'median_income'),\n",
       " (0.16970353127143692, 'INLAND'),\n",
       " (0.11282505183281684, 'longitude'),\n",
       " (0.10161708909186129, 'latitude'),\n",
       " (0.04422788276332916, 'housing_median_age'),\n",
       " (0.03608482977884369, 'population'),\n",
       " (0.027863846431707327, 'total_rooms'),\n",
       " (0.025468760016909307, 'total_bedrooms'),\n",
       " (0.024465267341276652, 'households'),\n",
       " (0.010436111409453309, '<1H OCEAN'),\n",
       " (0.0062171235885097424, 'NEAR OCEAN'),\n",
       " (0.0013939359033850567, 'NEAR BAY'),\n",
       " (2.9271521083280293e-05, 'ISLAND')]"
      ]
     },
     "execution_count": 34,
     "metadata": {},
     "output_type": "execute_result"
    }
   ],
   "source": [
    "sorted(zip(feature_importances, (numeric_attributes + list(categorical_pipeline.classes_))), reverse=True)"
   ]
  },
  {
   "cell_type": "markdown",
   "metadata": {},
   "source": [
    "Run the Test Set\n",
    "---"
   ]
  },
  {
   "cell_type": "code",
   "execution_count": 36,
   "metadata": {
    "collapsed": true
   },
   "outputs": [],
   "source": [
    "strat_test_set = pd.read_csv(\"strat_test_set.csv\")\n",
    "\n",
    "housing_test =  strat_test_set.drop(\"median_house_value\", axis=1)\n",
    "housing_labels_test = strat_test_set[\"median_house_value\"].copy()\n",
    "\n",
    "housing_test_prepared = full_pipeline.transform(housing_test)\n",
    "\n",
    "final_model = grid_search.best_estimator_\n",
    "\n",
    "final_predictions = final_model.predict(housing_test_prepared)\n",
    "\n",
    "final_mse = mean_squared_error(housing_labels_test, final_predictions)\n",
    "final_rmse = np.sqrt(final_mse)"
   ]
  },
  {
   "cell_type": "code",
   "execution_count": 37,
   "metadata": {},
   "outputs": [
    {
     "name": "stdout",
     "output_type": "stream",
     "text": [
      "41544.5823924\n"
     ]
    }
   ],
   "source": [
    "print(final_rmse)"
   ]
  },
  {
   "cell_type": "code",
   "execution_count": null,
   "metadata": {
    "collapsed": true
   },
   "outputs": [],
   "source": []
  }
 ],
 "metadata": {
  "kernelspec": {
   "display_name": "Python 3",
   "language": "python",
   "name": "python3"
  },
  "language_info": {
   "codemirror_mode": {
    "name": "ipython",
    "version": 3
   },
   "file_extension": ".py",
   "mimetype": "text/x-python",
   "name": "python",
   "nbconvert_exporter": "python",
   "pygments_lexer": "ipython3",
   "version": "3.5.3"
  }
 },
 "nbformat": 4,
 "nbformat_minor": 2
}
