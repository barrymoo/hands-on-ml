{
 "cells": [
  {
   "cell_type": "code",
   "execution_count": 86,
   "metadata": {
    "collapsed": true
   },
   "outputs": [],
   "source": [
    "import pandas as pd\n",
    "import numpy as np\n",
    "%matplotlib inline\n",
    "import matplotlib.pyplot as plt"
   ]
  },
  {
   "cell_type": "markdown",
   "metadata": {},
   "source": [
    "Initial Steps\n",
    "---\n",
    "\n",
    "1. Read the data\n",
    "2. Plot the histogram"
   ]
  },
  {
   "cell_type": "code",
   "execution_count": 87,
   "metadata": {},
   "outputs": [
    {
     "data": {
      "text/plain": [
       "(0, 200)"
      ]
     },
     "execution_count": 87,
     "metadata": {},
     "output_type": "execute_result"
    },
    {
     "data": {
      "image/png": "[encoded data removed]",
      "text/plain": [
       "<matplotlib.figure.Figure at 0x7f13c4c49d68>"
      ]
     },
     "metadata": {},
     "output_type": "display_data"
    }
   ],
   "source": [
    "housing = pd.read_csv(\"housing.csv\")\n",
    "housing[\"median_house_value\"].hist(bins=1000)\n",
    "plt.ylim([0, 200])"
   ]
  },
  {
   "cell_type": "markdown",
   "metadata": {},
   "source": [
    "Outlier Detection\n",
    "---\n",
    "\n",
    "There are some obvious outliers in the data (which we saw previously and above). Let's see if we can detect them using the modified z-score method. First, we need to group the data by the `median_house_value` and get the counts from any column."
   ]
  },
  {
   "cell_type": "code",
   "execution_count": 88,
   "metadata": {
    "collapsed": true
   },
   "outputs": [],
   "source": [
    "counts = housing.groupby(['median_house_value']).count()['longitude']"
   ]
  },
  {
   "cell_type": "markdown",
   "metadata": {},
   "source": [
    "Modified Z-Score\n",
    "---\n",
    "\n",
    "$$M_i = \\frac{0.6745(x_i - \\tilde{x})}{\\text{MAD}}$$\n",
    "\n",
    "where $\\tilde{x}$ is the median and $\\text{MAD}$ is the median absolute deviation.\n",
    "\n",
    "$$\\text{MAD} = \\text{median}(|x_i - \\tilde{x}|)$$\n",
    "\n",
    "$M_i$ which are greater than 3.5 are considered potential outliers."
   ]
  },
  {
   "cell_type": "code",
   "execution_count": 89,
   "metadata": {
    "collapsed": true
   },
   "outputs": [],
   "source": [
    "def outliers_modified_zscore(ys):\n",
    "    median = np.median(ys)\n",
    "    median_absolute_dev = np.median(np.abs(ys - median))\n",
    "    modified_z_scores = 0.6745 * (ys - median) / median_absolute_dev\n",
    "    return modified_z_scores"
   ]
  },
  {
   "cell_type": "markdown",
   "metadata": {},
   "source": [
    "Generate the Outliers\n",
    "---\n",
    "\n",
    "1. Get the zscores and the outliers"
   ]
  },
  {
   "cell_type": "code",
   "execution_count": 90,
   "metadata": {
    "collapsed": true
   },
   "outputs": [],
   "source": [
    "zscores = outliers_modified_zscore(counts.values)\n",
    "outliers = counts[zscores > 3.5]"
   ]
  },
  {
   "cell_type": "markdown",
   "metadata": {},
   "source": [
    "Plot the Outliers\n",
    "---\n",
    "\n",
    "Found the tick labels trick on Stack Overflow [here](https://stackoverflow.com/a/19387765/2216847)"
   ]
  },
  {
   "cell_type": "code",
   "execution_count": 91,
   "metadata": {},
   "outputs": [
    {
     "data": {
      "text/plain": [
       "[<matplotlib.text.Text at 0x7f13c67495c0>,\n",
       " <matplotlib.text.Text at 0x7f13c517f320>,\n",
       " <matplotlib.text.Text at 0x7f13a6b30cf8>,\n",
       " <matplotlib.text.Text at 0x7f13a6b30588>,\n",
       " <matplotlib.text.Text at 0x7f13a6ab80b8>,\n",
       " <matplotlib.text.Text at 0x7f13a6ab8c18>,\n",
       " <matplotlib.text.Text at 0x7f13a6abb7b8>,\n",
       " <matplotlib.text.Text at 0x7f13a6abf358>,\n",
       " <matplotlib.text.Text at 0x7f13c6617a20>,\n",
       " <matplotlib.text.Text at 0x7f13a6abfa90>,\n",
       " <matplotlib.text.Text at 0x7f13c65d2be0>]"
      ]
     },
     "execution_count": 91,
     "metadata": {},
     "output_type": "execute_result"
    },
    {
     "data": {
      "image/png": "[encoded data removed]",
      "text/plain": [
       "<matplotlib.figure.Figure at 0x7f13a6ccd978>"
      ]
     },
     "metadata": {},
     "output_type": "display_data"
    }
   ],
   "source": [
    "ax = outliers.plot(kind=\"bar\", ylim=[0, 200], rot=45)\n",
    "n = 10\n",
    "ticks = ax.xaxis.get_ticklocs()\n",
    "ticklabels = [l.get_text() for l in ax.xaxis.get_ticklabels()]\n",
    "ax.xaxis.set_ticks(ticks[::n])\n",
    "ax.xaxis.set_ticklabels(ticklabels[::n])"
   ]
  },
  {
   "cell_type": "markdown",
   "metadata": {},
   "source": [
    "What points to remove?\n",
    "---\n",
    "\n",
    "A decent cutoff looks like a count of $\\sim 25$"
   ]
  },
  {
   "cell_type": "code",
   "execution_count": 92,
   "metadata": {
    "collapsed": true
   },
   "outputs": [],
   "source": [
    "actual_outliers = outliers[outliers >= 25]"
   ]
  },
  {
   "cell_type": "markdown",
   "metadata": {},
   "source": [
    "How much data do we lose?\n",
    "---"
   ]
  },
  {
   "cell_type": "code",
   "execution_count": 93,
   "metadata": {},
   "outputs": [
    {
     "name": "stdout",
     "output_type": "stream",
     "text": [
      "20640\n",
      "2646\n"
     ]
    }
   ],
   "source": [
    "print(counts.sum())\n",
    "print(outliers[outliers >= 25].sum())"
   ]
  },
  {
   "cell_type": "markdown",
   "metadata": {
    "collapsed": true
   },
   "source": [
    "Remove the Data\n",
    "---"
   ]
  },
  {
   "cell_type": "code",
   "execution_count": 94,
   "metadata": {
    "collapsed": true
   },
   "outputs": [],
   "source": [
    "for outlier in actual_outliers.keys():\n",
    "    housing = housing[housing.median_house_value != outlier]"
   ]
  },
  {
   "cell_type": "code",
   "execution_count": 95,
   "metadata": {},
   "outputs": [
    {
     "data": {
      "text/plain": [
       "<matplotlib.axes._subplots.AxesSubplot at 0x7f13a69b50f0>"
      ]
     },
     "execution_count": 95,
     "metadata": {},
     "output_type": "execute_result"
    },
    {
     "data": {
      "image/png": "[encoded data removed]",
      "text/plain": [
       "<matplotlib.figure.Figure at 0x7f13c522fbe0>"
      ]
     },
     "metadata": {},
     "output_type": "display_data"
    }
   ],
   "source": [
    "housing[\"median_house_value\"].hist(bins=1000)"
   ]
  },
  {
   "cell_type": "markdown",
   "metadata": {},
   "source": [
    "Write to File\n",
    "---"
   ]
  },
  {
   "cell_type": "code",
   "execution_count": 96,
   "metadata": {
    "collapsed": true
   },
   "outputs": [],
   "source": [
    "housing.to_csv(\"housing-cleaned.csv\", index=False)"
   ]
  },
  {
   "cell_type": "markdown",
   "metadata": {},
   "source": [
    "Missing Data\n",
    "---\n",
    "\n",
    "The `total_bedrooms` is sometimes missing. Use SciKit-Learn's `Imputer` to set all missing values to the median. It only works on numeric data, need to drop the `ocean_proximity` bit\n",
    "\n",
    "#### Numerical Data"
   ]
  },
  {
   "cell_type": "code",
   "execution_count": 97,
   "metadata": {},
   "outputs": [
    {
     "data": {
      "text/plain": [
       "Imputer(axis=0, copy=True, missing_values='NaN', strategy='median', verbose=0)"
      ]
     },
     "execution_count": 97,
     "metadata": {},
     "output_type": "execute_result"
    }
   ],
   "source": [
    "from sklearn.preprocessing import Imputer\n",
    "imputer = Imputer(strategy=\"median\")\n",
    "\n",
    "housing_numeric_only = housing.drop(\"ocean_proximity\", axis=1)\n",
    "\n",
    "imputer.fit(housing_numeric_only)"
   ]
  },
  {
   "cell_type": "code",
   "execution_count": 98,
   "metadata": {},
   "outputs": [
    {
     "data": {
      "text/plain": [
       "array([ -1.18510000e+02,   3.42700000e+01,   2.80000000e+01,\n",
       "         2.18350000e+03,   4.44000000e+02,   1.20700000e+03,\n",
       "         4.19000000e+02,   3.53750000e+00,   1.74850000e+05])"
      ]
     },
     "execution_count": 98,
     "metadata": {},
     "output_type": "execute_result"
    }
   ],
   "source": [
    "# The \"trained\" medians\n",
    "imputer.statistics_"
   ]
  },
  {
   "cell_type": "code",
   "execution_count": 99,
   "metadata": {
    "collapsed": true
   },
   "outputs": [],
   "source": [
    "X = imputer.transform(housing_numeric_only)\n",
    "housing_tr = pd.DataFrame(X, columns=housing_numeric_only.columns)"
   ]
  },
  {
   "cell_type": "markdown",
   "metadata": {},
   "source": [
    "Transformation Pipelines\n",
    "---"
   ]
  },
  {
   "cell_type": "code",
   "execution_count": 100,
   "metadata": {},
   "outputs": [],
   "source": [
    "from sklearn.pipeline import Pipeline\n",
    "from sklearn.preprocessing import StandardScaler, LabelBinarizer\n",
    "\n",
    "numeric_pipeline = Pipeline([\n",
    "    ('imputer', Imputer(strategy=\"median\")),\n",
    "    ('std_scaler', StandardScaler())\n",
    "])\n",
    "\n",
    "categorical_pipeline = Pipeline([\n",
    "    ('binarizer', LabelBinarizer())\n",
    "])\n",
    "\n",
    "housing_numeric_tr = numeric_pipeline.fit_transform(housing_numeric_only)\n",
    "housing_categorical_tr = categorical_pipeline.fit_transform(housing[\"ocean_proximity\"])"
   ]
  },
  {
   "cell_type": "markdown",
   "metadata": {},
   "source": [
    "Combining Everything into One Pipeline\n",
    "---"
   ]
  },
  {
   "cell_type": "code",
   "execution_count": 101,
   "metadata": {
    "collapsed": true
   },
   "outputs": [],
   "source": [
    "from sklearn.base import BaseEstimator, TransformerMixin\n",
    "\n",
    "class DataFrameSelector(BaseEstimator, TransformerMixin):\n",
    "    def __init__(self, attribute_names):\n",
    "        self.attribute_names = attribute_names\n",
    "    def fit(self, X, y=None):\n",
    "        return self\n",
    "    def transform(self, X):\n",
    "        return X[self.attribute_names].values"
   ]
  },
  {
   "cell_type": "code",
   "execution_count": 102,
   "metadata": {},
   "outputs": [],
   "source": [
    "from sklearn.pipeline import FeatureUnion\n",
    "\n",
    "numeric_attributes = list(housing.drop(\"ocean_proximity\", axis=1))\n",
    "categorical_attributes = [\"ocean_proximity\"]\n",
    "\n",
    "numeric_pipeline = Pipeline([\n",
    "    ('selector', DataFrameSelector(numeric_attributes)),\n",
    "    ('imputer', Imputer(strategy=\"median\")),\n",
    "    ('std_scaler', StandardScaler())\n",
    "])\n",
    "\n",
    "categorical_pipeline = Pipeline([\n",
    "    ('selector', DataFrameSelector(categorical_attributes)),\n",
    "    ('binarizer', LabelBinarizer())\n",
    "])\n",
    "\n",
    "full_pipeline = FeatureUnion(transformer_list=[\n",
    "    (\"numeric_pipeline\", numeric_pipeline),\n",
    "    (\"categorical_pipeline\", categorical_pipeline)\n",
    "])\n",
    "\n",
    "housing_prepared = full_pipeline.fit_transform(housing)"
   ]
  }
 ],
 "metadata": {
  "kernelspec": {
   "display_name": "Python 3",
   "language": "python",
   "name": "python3"
  },
  "language_info": {
   "codemirror_mode": {
    "name": "ipython",
    "version": 3
   },
   "file_extension": ".py",
   "mimetype": "text/x-python",
   "name": "python",
   "nbconvert_exporter": "python",
   "pygments_lexer": "ipython3",
   "version": "3.5.3"
  }
 },
 "nbformat": 4,
 "nbformat_minor": 2
}
