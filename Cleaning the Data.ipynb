{
 "cells": [
  {
   "cell_type": "code",
   "execution_count": 1,
   "metadata": {
    "collapsed": true
   },
   "outputs": [],
   "source": [
    "import pandas as pd\n",
    "import numpy as np\n",
    "%matplotlib inline\n",
    "import matplotlib.pyplot as plt"
   ]
  },
  {
   "cell_type": "markdown",
   "metadata": {},
   "source": [
    "Initial Steps\n",
    "---\n",
    "\n",
    "1. Read the data\n",
    "2. Plot the histogram"
   ]
  },
  {
   "cell_type": "code",
   "execution_count": 3,
   "metadata": {},
   "outputs": [
    {
     "data": {
      "text/plain": [
       "(0, 200)"
      ]
     },
     "execution_count": 3,
     "metadata": {},
     "output_type": "execute_result"
    },
    {
     "data": {
      "image/png": "[encoded data removed]",
      "text/plain": [
       "<matplotlib.figure.Figure at 0x7f3e78e9b2e8>"
      ]
     },
     "metadata": {},
     "output_type": "display_data"
    }
   ],
   "source": [
    "housing = pd.read_csv(\"housing.csv\")\n",
    "housing[\"median_house_value\"].hist(bins=1000)\n",
    "plt.ylim([0, 200])"
   ]
  },
  {
   "cell_type": "markdown",
   "metadata": {},
   "source": [
    "Outlier Detection\n",
    "---\n",
    "\n",
    "There are some obvious outliers in the data (which we saw previously and above). Let's see if we can detect them using the modified z-score method. First, we need to group the data by the `median_house_value` and get the counts from any column."
   ]
  },
  {
   "cell_type": "code",
   "execution_count": 7,
   "metadata": {},
   "outputs": [],
   "source": [
    "counts = housing.groupby(['median_house_value']).count()['longitude']"
   ]
  },
  {
   "cell_type": "markdown",
   "metadata": {},
   "source": [
    "Modified Z-Score\n",
    "---\n",
    "\n",
    "$$M_i = \\frac{0.6745(x_i - \\tilde{x})}{\\text{MAD}}$$\n",
    "\n",
    "where $\\tilde{x}$ is the median and $\\text{MAD}$ is the median absolute deviation.\n",
    "\n",
    "$$\\text{MAD} = \\text{median}(|x_i - \\tilde{x}|)$$\n",
    "\n",
    "$M_i$ which are greater than 3.5 are considered potential outliers."
   ]
  },
  {
   "cell_type": "code",
   "execution_count": 36,
   "metadata": {
    "collapsed": true
   },
   "outputs": [],
   "source": [
    "def outliers_modified_zscore(ys):\n",
    "    median = np.median(ys)\n",
    "    median_absolute_dev = np.median(np.abs(ys - median))\n",
    "    modified_z_scores = 0.6745 * (ys - median) / median_absolute_dev\n",
    "    return modified_z_scores"
   ]
  },
  {
   "cell_type": "markdown",
   "metadata": {},
   "source": [
    "Generate the Outliers\n",
    "---\n",
    "\n",
    "1. Get the zscores and the outliers"
   ]
  },
  {
   "cell_type": "code",
   "execution_count": 46,
   "metadata": {},
   "outputs": [],
   "source": [
    "zscores = outliers_modified_zscore(counts.values)\n",
    "outliers = counts[zscores > 3.5]"
   ]
  },
  {
   "cell_type": "markdown",
   "metadata": {},
   "source": [
    "Plot the Outliers\n",
    "---\n",
    "\n",
    "Found the tick labels trick on Stack Overflow [here](https://stackoverflow.com/a/19387765/2216847)"
   ]
  },
  {
   "cell_type": "code",
   "execution_count": 45,
   "metadata": {},
   "outputs": [
    {
     "data": {
      "text/plain": [
       "[<matplotlib.text.Text at 0x7f3e73860908>,\n",
       " <matplotlib.text.Text at 0x7f3e73662438>,\n",
       " <matplotlib.text.Text at 0x7f3e7340b748>,\n",
       " <matplotlib.text.Text at 0x7f3e7340e2e8>,\n",
       " <matplotlib.text.Text at 0x7f3e7340ee48>,\n",
       " <matplotlib.text.Text at 0x7f3e73411668>,\n",
       " <matplotlib.text.Text at 0x7f3e73416208>,\n",
       " <matplotlib.text.Text at 0x7f3e73416d68>,\n",
       " <matplotlib.text.Text at 0x7f3e73416080>,\n",
       " <matplotlib.text.Text at 0x7f3e733a6198>,\n",
       " <matplotlib.text.Text at 0x7f3e7341f5c0>]"
      ]
     },
     "execution_count": 45,
     "metadata": {},
     "output_type": "execute_result"
    },
    {
     "data": {
      "image/png": "[encoded data removed]",
      "text/plain": [
       "<matplotlib.figure.Figure at 0x7f3e738f74e0>"
      ]
     },
     "metadata": {},
     "output_type": "display_data"
    }
   ],
   "source": [
    "ax = outliers.plot(kind=\"bar\", ylim=[0, 200], rot=45)\n",
    "n = 10\n",
    "ticks = ax.xaxis.get_ticklocs()\n",
    "ticklabels = [l.get_text() for l in ax.xaxis.get_ticklabels()]\n",
    "ax.xaxis.set_ticks(ticks[::n])\n",
    "ax.xaxis.set_ticklabels(ticklabels[::n])"
   ]
  },
  {
   "cell_type": "markdown",
   "metadata": {},
   "source": [
    "What points to remove?\n",
    "---\n",
    "\n",
    "A decent cutoff looks like a count of $\\sim 25$"
   ]
  },
  {
   "cell_type": "code",
   "execution_count": 53,
   "metadata": {},
   "outputs": [
    {
     "data": {
      "text/plain": [
       "median_house_value\n",
       "55000.0      29\n",
       "67500.0      55\n",
       "75000.0      30\n",
       "81300.0      29\n",
       "87500.0      78\n",
       "93800.0      29\n",
       "100000.0     62\n",
       "106300.0     28\n",
       "112500.0    103\n",
       "118800.0     39\n",
       "125000.0     56\n",
       "137500.0    122\n",
       "143800.0     28\n",
       "150000.0     64\n",
       "156300.0     35\n",
       "162500.0    117\n",
       "170800.0     25\n",
       "175000.0     63\n",
       "181300.0     31\n",
       "187500.0     93\n",
       "193800.0     31\n",
       "200000.0     46\n",
       "212500.0     33\n",
       "225000.0     92\n",
       "237500.0     26\n",
       "250000.0     47\n",
       "262500.0     25\n",
       "275000.0     65\n",
       "300000.0     30\n",
       "350000.0     79\n",
       "400000.0     27\n",
       "450000.0     37\n",
       "500000.0     27\n",
       "500001.0    965\n",
       "Name: longitude, dtype: int64"
      ]
     },
     "execution_count": 53,
     "metadata": {},
     "output_type": "execute_result"
    }
   ],
   "source": [
    "outliers[outliers >= 25]"
   ]
  },
  {
   "cell_type": "markdown",
   "metadata": {},
   "source": [
    "How much data do we lose?\n",
    "---"
   ]
  },
  {
   "cell_type": "code",
   "execution_count": 52,
   "metadata": {},
   "outputs": [
    {
     "name": "stdout",
     "output_type": "stream",
     "text": [
      "20640\n",
      "2646\n"
     ]
    }
   ],
   "source": [
    "print(counts.sum())\n",
    "print(outliers[outliers >= 25].sum())"
   ]
  },
  {
   "cell_type": "code",
   "execution_count": null,
   "metadata": {
    "collapsed": true
   },
   "outputs": [],
   "source": []
  }
 ],
 "metadata": {
  "kernelspec": {
   "display_name": "Python 3",
   "language": "python",
   "name": "python3"
  },
  "language_info": {
   "codemirror_mode": {
    "name": "ipython",
    "version": 3
   },
   "file_extension": ".py",
   "mimetype": "text/x-python",
   "name": "python",
   "nbconvert_exporter": "python",
   "pygments_lexer": "ipython3",
   "version": "3.5.3"
  }
 },
 "nbformat": 4,
 "nbformat_minor": 2
}
